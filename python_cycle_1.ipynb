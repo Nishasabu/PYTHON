{
  "nbformat": 4,
  "nbformat_minor": 0,
  "metadata": {
    "colab": {
      "name": "python cycle_1",
      "provenance": [],
      "collapsed_sections": [],
      "authorship_tag": "ABX9TyNeXV7BlGE27a1LCG2E7LxL",
      "include_colab_link": true
    },
    "kernelspec": {
      "name": "python3",
      "display_name": "Python 3"
    }
  },
  "cells": [
    {
      "cell_type": "markdown",
      "metadata": {
        "id": "view-in-github",
        "colab_type": "text"
      },
      "source": [
        "<a href=\"https://colab.research.google.com/github/Nishasabu/PYTHON/blob/main/python_cycle_1.ipynb\" target=\"_parent\"><img src=\"https://colab.research.google.com/assets/colab-badge.svg\" alt=\"Open In Colab\"/></a>"
      ]
    },
    {
      "cell_type": "code",
      "metadata": {
        "colab": {
          "base_uri": "https://localhost:8080/"
        },
        "id": "bk-dKjfrppGy",
        "outputId": "4d426cad-9d66-4e00-912d-c3bfba9a419c"
      },
      "source": [
        "a = 5\r\n",
        "print(\"The value of\",a, \"is of type\", type(a))\r\n",
        "b = 2.0\r\n",
        "print(\"The value of\",b, \"is of type\", type(b))\r\n",
        "c = \"This is a string\"\r\n",
        "print(\"The value of\",c, \"is of type\", type(c))\r\n",
        "d= 1+3j  \r\n",
        "print(\"The type of\",d,\"is a type\", type(d))\r\n",
        "e={\"c\",\"c++\",\"java\"} \r\n",
        "print(\"The type of\",e,\"is a type\", type(e))\r\n",
        "f=(\"c\",\"c++\",\"java\") \r\n",
        "print(\"The type of\",f,\"is a type\", type(f))\r\n",
        "g=[\"c\",\"c++\",\"java\"]\r\n",
        "print(\"The type of\",g,\"is a type\", type(g))\r\n",
        "h=range(5)\r\n",
        "print(\"The type of\",h,\"is a type\", type(h))\r\n"
      ],
      "execution_count": 85,
      "outputs": [
        {
          "output_type": "stream",
          "text": [
            "The value of 5 is of type <class 'int'>\n",
            "The value of 2.0 is of type <class 'float'>\n",
            "The value of This is a string is of type <class 'str'>\n",
            "The type of (1+3j) is a type <class 'complex'>\n",
            "The type of {'c', 'c++', 'java'} is a type <class 'set'>\n",
            "The type of ('c', 'c++', 'java') is a type <class 'tuple'>\n",
            "The type of ['c', 'c++', 'java'] is a type <class 'list'>\n",
            "The type of range(0, 5) is a type <class 'range'>\n"
          ],
          "name": "stdout"
        }
      ]
    },
    {
      "cell_type": "code",
      "metadata": {
        "colab": {
          "base_uri": "https://localhost:8080/"
        },
        "id": "5qEjiY39vJcC",
        "outputId": "7c30068c-8298-42cd-d769-082b42fd4d13"
      },
      "source": [
        "print(\"Hello World!\")\r\n"
      ],
      "execution_count": null,
      "outputs": [
        {
          "output_type": "stream",
          "text": [
            "Hello World!\n"
          ],
          "name": "stdout"
        }
      ]
    },
    {
      "cell_type": "code",
      "metadata": {
        "colab": {
          "base_uri": "https://localhost:8080/"
        },
        "id": "np_rkol9vctE",
        "outputId": "9ca60c65-265c-443d-fd74-d2ecbc66dab5"
      },
      "source": [
        "x= input(\"Enter a number:\")\r\n",
        "print(\"Entered number is:\",x)\r\n"
      ],
      "execution_count": 73,
      "outputs": [
        {
          "output_type": "stream",
          "text": [
            "Enter a number:45\n",
            "Entered number is: 45\n"
          ],
          "name": "stdout"
        }
      ]
    },
    {
      "cell_type": "code",
      "metadata": {
        "colab": {
          "base_uri": "https://localhost:8080/"
        },
        "id": "0oPRv34Qycia",
        "outputId": "fcd30ef4-dbe2-4163-b7b6-8dd9c0e4827b"
      },
      "source": [
        "x=int(input(\"Enter first number:\"))\r\n",
        "y=int(input(\"Enter second number:\"))\r\n",
        "sum=x+y\r\n",
        "print(\"sum is:\",sum)"
      ],
      "execution_count": 12,
      "outputs": [
        {
          "output_type": "stream",
          "text": [
            "Enter first number:23\n",
            "Enter second number:45\n",
            "sum is: 68\n"
          ],
          "name": "stdout"
        }
      ]
    },
    {
      "cell_type": "code",
      "metadata": {
        "colab": {
          "base_uri": "https://localhost:8080/"
        },
        "id": "WQ5sVpE9yyXF",
        "outputId": "fee6c223-17a6-45b3-e739-c57f5b2cb524"
      },
      "source": [
        "x=float(input(\"Enter first number:\"))\r\n",
        "y=float(input(\"Enter second number:\"))\r\n",
        "product=x*y\r\n",
        "print(\"Product of\",x,\"and\",y ,\"is\",product)"
      ],
      "execution_count": 72,
      "outputs": [
        {
          "output_type": "stream",
          "text": [
            "Enter first number:12.3\n",
            "Enter second number:15.6\n",
            "Product of 12.3 and 15.6 is 191.88\n"
          ],
          "name": "stdout"
        }
      ]
    },
    {
      "cell_type": "code",
      "metadata": {
        "colab": {
          "base_uri": "https://localhost:8080/"
        },
        "id": "WbnZMgwftQ8E",
        "outputId": "5fe3e653-1a24-4c94-b766-9a688bd39edf"
      },
      "source": [
        "dividend=int(input(\"Enter the dividend:\"))\r\n",
        "divisor=int(input(\"Enter the divisor:\"))\r\n",
        "quoitent=dividend//divisor;\r\n",
        "remainder=dividend%divisor;\r\n",
        "print(\"Quoitent is :\",quoitent)\r\n",
        "print(\"Remainder is :\",remainder)"
      ],
      "execution_count": 47,
      "outputs": [
        {
          "output_type": "stream",
          "text": [
            "Enter the dividend:82\n",
            "Enter the divisor:3\n",
            "Quoitent is : 27\n",
            "Remainder is : 1\n"
          ],
          "name": "stdout"
        }
      ]
    },
    {
      "cell_type": "code",
      "metadata": {
        "colab": {
          "base_uri": "https://localhost:8080/"
        },
        "id": "xOG2WNgoox7l",
        "outputId": "d041af9e-09cc-45ec-b3a0-c687f51aa732"
      },
      "source": [
        "num1=10\r\n",
        "num2=21\r\n",
        "print(\"value of num1 Before swaping:\",num1)\r\n",
        "print(\"value of num2 Before swaping:\",num2)\r\n",
        "temp=num1\r\n",
        "num1=num2\r\n",
        "num2=temp\r\n",
        "print(\"value of num1 After swaping:\",num1)\r\n",
        "print(\"value of num2 After swaping:\",num2)\r\n"
      ],
      "execution_count": 35,
      "outputs": [
        {
          "output_type": "stream",
          "text": [
            "value of num1 Before swaping: 10\n",
            "value of num2 Before swaping: 21\n",
            "value of num1 After swaping: 21\n",
            "value of num2 After swaping: 10\n"
          ],
          "name": "stdout"
        }
      ]
    },
    {
      "cell_type": "code",
      "metadata": {
        "id": "8RE8eGrEhSvi",
        "colab": {
          "base_uri": "https://localhost:8080/"
        },
        "outputId": "b937e5c9-19cf-4623-84b9-0f10abe218e9"
      },
      "source": [
        "x=int(input(\"Enter a number:\"))\r\n",
        "if(x%2)==0:\r\n",
        "  print(\"{0} is a even number\".format(x))\r\n",
        "else:\r\n",
        "  print(\"{0} is a odd number\".format(x))\r\n",
        "                                  "
      ],
      "execution_count": 71,
      "outputs": [
        {
          "output_type": "stream",
          "text": [
            "Enter a number:7\n",
            "7 is a odd number\n"
          ],
          "name": "stdout"
        }
      ]
    },
    {
      "cell_type": "code",
      "metadata": {
        "colab": {
          "base_uri": "https://localhost:8080/"
        },
        "id": "G85hsEOYsDW8",
        "outputId": "8c4497d8-ad55-4090-e711-ff2e2ce09f88"
      },
      "source": [
        "ch=input(\"Enter a character:\")\r\n",
        "if(ch=='A' or ch=='a'or ch=='E' or ch=='e' or ch=='I' or ch=='i' or ch=='O' or  ch=='O' or ch=='U' or ch=='u'):\r\n",
        " print(ch, \"is a vowel\")\r\n",
        "else:\r\n",
        "  print(ch,\"is a consonant\")"
      ],
      "execution_count": 28,
      "outputs": [
        {
          "output_type": "stream",
          "text": [
            "Enter a character:h\n",
            "h is a consonant\n"
          ],
          "name": "stdout"
        }
      ]
    },
    {
      "cell_type": "code",
      "metadata": {
        "colab": {
          "base_uri": "https://localhost:8080/"
        },
        "id": "fGRHkbGBgCmu",
        "outputId": "f3651ae8-3265-4674-9f84-fbd5467350c4"
      },
      "source": [
        "n1=int(input(\"Enter first number:\"))\r\n",
        "n2=int(input(\"Enter second number:\"))\r\n",
        "n3=int(input(\"Enter third number:\"))\r\n",
        "if(n1>=n2) and (n1>=n3):\r\n",
        "  largest=n1\r\n",
        "elif(n2>=n1) and (n2>=n3):\r\n",
        "  largest=n2\r\n",
        "else:\r\n",
        " largest=n3\r\n",
        "print(\"The largest number is\",largest)    "
      ],
      "execution_count": null,
      "outputs": [
        {
          "output_type": "stream",
          "text": [
            "Enter first number:10\n",
            "Enter second number:21\n",
            "Enter third number:15\n",
            "The largest number is 21\n"
          ],
          "name": "stdout"
        }
      ]
    },
    {
      "cell_type": "code",
      "metadata": {
        "id": "il-JPH6qg8DC",
        "colab": {
          "base_uri": "https://localhost:8080/"
        },
        "outputId": "9d3e8f3f-9563-4980-d15b-8b1c4a219de8"
      },
      "source": [
        "num=int(input(\"Enter a year:\"))\r\n",
        "if(num%4==0 and num%100!=0 or num%400==0):\r\n",
        "  print(num,\"is a leap year\")\r\n",
        "else:\r\n",
        "  print(num,\"is not a leap year\")"
      ],
      "execution_count": 48,
      "outputs": [
        {
          "output_type": "stream",
          "text": [
            "Enter a year:2007\n",
            "2007 is not a leap year\n"
          ],
          "name": "stdout"
        }
      ]
    },
    {
      "cell_type": "code",
      "metadata": {
        "colab": {
          "base_uri": "https://localhost:8080/"
        },
        "id": "PN90t7Unyahh",
        "outputId": "31e834d7-d72d-4b0f-fc1d-4041933fb05e"
      },
      "source": [
        "num=int(input(\"Enter the number:\"))\r\n",
        "if(num<0):\r\n",
        " print(num,\"is a negative number\")\r\n",
        "else:\r\n",
        " print(num,\"is a positive number\")"
      ],
      "execution_count": 49,
      "outputs": [
        {
          "output_type": "stream",
          "text": [
            "Enter the number:-56\n",
            "-56 is a negative number\n"
          ],
          "name": "stdout"
        }
      ]
    },
    {
      "cell_type": "code",
      "metadata": {
        "colab": {
          "base_uri": "https://localhost:8080/"
        },
        "id": "VaKT8f9qzB3V",
        "outputId": "f1dc56ec-a639-4765-88eb-49036e8197b9"
      },
      "source": [
        "num=int(input(\"Enter the natural numbers sum do you want:\"))\r\n",
        "if num <0:\r\n",
        "  print(\"enter a positive number\")\r\n",
        "else:\r\n",
        " sum=0\r\n",
        "while(num>0):\r\n",
        "    sum += num\r\n",
        "    num -= 1  \r\n",
        "print(\"sum of entered natural number is:\",sum)                 "
      ],
      "execution_count": 88,
      "outputs": [
        {
          "output_type": "stream",
          "text": [
            "Enter the natural numbers sum do you want:16\n",
            "sum of entered natural number is: 136\n"
          ],
          "name": "stdout"
        }
      ]
    },
    {
      "cell_type": "code",
      "metadata": {
        "id": "hEcE8DDIvyGi",
        "colab": {
          "base_uri": "https://localhost:8080/"
        },
        "outputId": "f360444e-b02d-41b6-aa0c-2e4814e80f03"
      },
      "source": [
        "num=int(input(\"Enter a number:\"))\r\n",
        "factorial=1\r\n",
        "if num<0:\r\n",
        "  printf(\"entered number is a positive number\")\r\n",
        "else:\r\n",
        "  for i in range(1,num +1):\r\n",
        "   factorial = factorial *i\r\n",
        "  print(\"Factorial of the entered number is:\",factorial)\r\n"
      ],
      "execution_count": 91,
      "outputs": [
        {
          "output_type": "stream",
          "text": [
            "Enter a number:6\n",
            "Factorial of the entered number is: 720\n"
          ],
          "name": "stdout"
        }
      ]
    },
    {
      "cell_type": "code",
      "metadata": {
        "colab": {
          "base_uri": "https://localhost:8080/"
        },
        "id": "KvOCIXAv44Lw",
        "outputId": "686a6939-007e-4d0c-cc70-9a20878e55fc"
      },
      "source": [
        "n=int(input(\"enter a number:\"))\r\n",
        "print(\"multiplication table of\",n)\r\n",
        "for i in range(1,11):\r\n",
        "  print(n,'x',i,'=',n*i)"
      ],
      "execution_count": 37,
      "outputs": [
        {
          "output_type": "stream",
          "text": [
            "enter a number:9\n",
            "multiplication table of 9\n",
            "9 x 1 = 9\n",
            "9 x 2 = 18\n",
            "9 x 3 = 27\n",
            "9 x 4 = 36\n",
            "9 x 5 = 45\n",
            "9 x 6 = 54\n",
            "9 x 7 = 63\n",
            "9 x 8 = 72\n",
            "9 x 9 = 81\n",
            "9 x 10 = 90\n"
          ],
          "name": "stdout"
        }
      ]
    },
    {
      "cell_type": "code",
      "metadata": {
        "colab": {
          "base_uri": "https://localhost:8080/"
        },
        "id": "ZFX8jH0D9TXP",
        "outputId": "72184f84-3443-466c-e7e9-c68f127a5081"
      },
      "source": [
        "n=int(input(\"How many fibonacci number do you want:\"))\r\n",
        "first=0\r\n",
        "second=1\r\n",
        "i=0\r\n",
        "if n<=0:\r\n",
        "  print(\"you entered a negative number\")\r\n",
        "elif n==1:\r\n",
        "  print(\"fibonacci series :,first\")\r\n",
        "else:\r\n",
        "  print(\"Fibonacci Series:\")\r\n",
        "  while i<n:\r\n",
        "    print(first)\r\n",
        "    next=first+second\r\n",
        "    first=second\r\n",
        "    second=next\r\n",
        "    i+=1\r\n"
      ],
      "execution_count": 41,
      "outputs": [
        {
          "output_type": "stream",
          "text": [
            "How many fibonacci number do you want:5\n",
            "Fibonacci Series:\n",
            "0\n",
            "1\n",
            "1\n",
            "2\n",
            "3\n"
          ],
          "name": "stdout"
        }
      ]
    },
    {
      "cell_type": "code",
      "metadata": {
        "colab": {
          "base_uri": "https://localhost:8080/"
        },
        "id": "dwZaN5p2cXhW",
        "outputId": "e1cc5be2-e273-4858-f016-651afff975a4"
      },
      "source": [
        "def lcm(x, y):  \r\n",
        "   if x > y:  \r\n",
        "       greater = x  \r\n",
        "   else:  \r\n",
        "       greater = y  \r\n",
        "   while(True):  \r\n",
        "       if((greater % x == 0) and (greater % y == 0)):  \r\n",
        "           lcm = greater  \r\n",
        "           break  \r\n",
        "       greater += 1  \r\n",
        "   return lcm  \r\n",
        "num1= int(input(\"Enter first number: \"))  \r\n",
        "num2 = int(input(\"Enter second number: \"))\r\n",
        "print(\"The L.C.M. of\", num1,\"and\", num2,\"is:\", lcm(num1, num2))  "
      ],
      "execution_count": 70,
      "outputs": [
        {
          "output_type": "stream",
          "text": [
            "Enter first number: 34\n",
            "Enter second number: 12\n",
            "The L.C.M. of 34 and 12 is 204\n"
          ],
          "name": "stdout"
        }
      ]
    },
    {
      "cell_type": "code",
      "metadata": {
        "colab": {
          "base_uri": "https://localhost:8080/"
        },
        "id": "u89vuk1vt2DF",
        "outputId": "02c62c6e-1944-4ba5-efd6-71de4b79aab9"
      },
      "source": [
        "num=int(input(\"Enter a number:\"))\r\n",
        "count=0\r\n",
        "while(num>0):\r\n",
        "  num=num // 10\r\n",
        "  count=count+1\r\n",
        "print(\"Number of digits in the given number is:\",count)"
      ],
      "execution_count": 58,
      "outputs": [
        {
          "output_type": "stream",
          "text": [
            "Enter a number:45389\n",
            "Number of digits in the given number is: 5\n"
          ],
          "name": "stdout"
        }
      ]
    },
    {
      "cell_type": "code",
      "metadata": {
        "colab": {
          "base_uri": "https://localhost:8080/"
        },
        "id": "Q0VGTIoZ5s8m",
        "outputId": "02a2cbc6-e253-489f-f65d-bd01f5c85dd7"
      },
      "source": [
        "number=int(input(\"Enter the number which you want reverse:\"))\r\n",
        "rev=0\r\n",
        "while(number>0):\r\n",
        " rev=rev*10+number%10\r\n",
        " number=number // 10\r\n",
        "print(\"Reverse of the number is:\",rev)"
      ],
      "execution_count": 15,
      "outputs": [
        {
          "output_type": "stream",
          "text": [
            "Enter the number which you want reverse:6789\n",
            "Reverse of the number is: 9876\n"
          ],
          "name": "stdout"
        }
      ]
    },
    {
      "cell_type": "code",
      "metadata": {
        "colab": {
          "base_uri": "https://localhost:8080/"
        },
        "id": "264xnVm1idjo",
        "outputId": "9e06b07d-fda7-486e-d59f-7482bc3f7401"
      },
      "source": [
        "base=int(input(\"Enter the number:\"))\r\n",
        "exponent=int(input(\"Enter the exponent:\"))\r\n",
        "power=base**exponent\r\n",
        "print(\"Power of the given number is:\",power)"
      ],
      "execution_count": 90,
      "outputs": [
        {
          "output_type": "stream",
          "text": [
            "Enter the number:4\n",
            "Enter the exponent:3\n",
            "Power of the given number is: 64\n"
          ],
          "name": "stdout"
        }
      ]
    },
    {
      "cell_type": "code",
      "metadata": {
        "colab": {
          "base_uri": "https://localhost:8080/"
        },
        "id": "2HvAe98N3lh5",
        "outputId": "0b90a824-5285-47c5-e648-97828a0de506"
      },
      "source": [
        "n=int(input(\"Enter a number:\"))\r\n",
        "rev=0\r\n",
        "temp=n\r\n",
        "while(temp>0):\r\n",
        "  r=temp%10\r\n",
        "  rev=(rev*10)+r\r\n",
        "  temp=temp//10\r\n",
        "print(\"Reverse of the given number is:\",rev)\r\n",
        "if(n==rev):\r\n",
        "  print(n,\"is a palindrome number\")\r\n",
        "else:\r\n",
        "  print(n,\"is not a palindrome number\")    "
      ],
      "execution_count": 40,
      "outputs": [
        {
          "output_type": "stream",
          "text": [
            "Enter a number:4567\n",
            "Reverse of the given number is: 7654\n",
            "4567 is not a palindrome number\n"
          ],
          "name": "stdout"
        }
      ]
    }
  ]
}