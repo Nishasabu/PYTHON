{
  "nbformat": 4,
  "nbformat_minor": 0,
  "metadata": {
    "colab": {
      "name": "python cycle2",
      "provenance": [],
      "collapsed_sections": [],
      "authorship_tag": "ABX9TyOzqF/LOku18STgbp3fYKe0",
      "include_colab_link": true
    },
    "kernelspec": {
      "name": "python3",
      "display_name": "Python 3"
    }
  },
  "cells": [
    {
      "cell_type": "markdown",
      "metadata": {
        "id": "view-in-github",
        "colab_type": "text"
      },
      "source": [
        "<a href=\"https://colab.research.google.com/github/Nishasabu/PYTHON/blob/main/python_cycle2.ipynb\" target=\"_parent\"><img src=\"https://colab.research.google.com/assets/colab-badge.svg\" alt=\"Open In Colab\"/></a>"
      ]
    },
    {
      "cell_type": "code",
      "metadata": {
        "colab": {
          "base_uri": "https://localhost:8080/"
        },
        "id": "O07LfUnCkTix",
        "outputId": "8da3dbc8-8735-4952-9ea9-230df8f223db"
      },
      "source": [
        "#3.(a) generate positive list of numbers from a given list of integers\r\n",
        "list1=[-10,2,5,7,9,23,56,-3,-6,-8,-2,-7,-5,-1,-11,21,22,18,-17,14,15,16]\r\n",
        "for x in list1:\r\n",
        "  if x>0:\r\n",
        "    print(x)"
      ],
      "execution_count": 27,
      "outputs": [
        {
          "output_type": "stream",
          "text": [
            "2\n",
            "5\n",
            "7\n",
            "9\n",
            "23\n",
            "56\n",
            "21\n",
            "22\n",
            "18\n",
            "14\n",
            "15\n",
            "16\n"
          ],
          "name": "stdout"
        }
      ]
    },
    {
      "cell_type": "code",
      "metadata": {
        "colab": {
          "base_uri": "https://localhost:8080/"
        },
        "id": "p-ciyWGUIAqY",
        "outputId": "c6ffe321-cebb-4e7d-ff27-6b8be7aab4bf"
      },
      "source": [
        "#create a list of colors from comma separated color names entered by user.display first and last color\r\n",
        "olorlist = [\"Red\",\"Green\",\"White\" ,\"Black\"]\r\n",
        "print(\"The first and last color of the list is:\",colorlist[0],colorlist[-1])\r\n",
        "\r\n"
      ],
      "execution_count": 12,
      "outputs": [
        {
          "output_type": "stream",
          "text": [
            "The first and last color of the list is: Red Black\n"
          ],
          "name": "stdout"
        }
      ]
    },
    {
      "cell_type": "code",
      "metadata": {
        "id": "vWUZund1uCZT",
        "colab": {
          "base_uri": "https://localhost:8080/"
        },
        "outputId": "38561066-8390-4e5e-d475-599f787512b7"
      },
      "source": [
        "#accept a file name from user and print extension of that\r\n",
        "filename= input(\"Enter Filename: \")\r\n",
        "f = filename.split(\".\")\r\n",
        "\r\n",
        "print (\"Extension of the file is : \" + f[-1])"
      ],
      "execution_count": 1,
      "outputs": [
        {
          "output_type": "stream",
          "text": [
            "Enter Filename: sample.txt\n",
            "Extension of the file is : txt\n"
          ],
          "name": "stdout"
        }
      ]
    },
    {
      "cell_type": "code",
      "metadata": {
        "colab": {
          "base_uri": "https://localhost:8080/"
        },
        "id": "jnyG1m00JOv6",
        "outputId": "e2472be9-28ba-4cf3-808a-7a636608d11c"
      },
      "source": [
        "#3.(b) square of n numbers\r\n",
        "n=int(input(\"enter the number you want squares:\"))\r\n",
        "squares=[i*i for i in range(1,n+1)]\r\n",
        "print(squares)\r\n",
        "                                  "
      ],
      "execution_count": null,
      "outputs": [
        {
          "output_type": "stream",
          "text": [
            "enter the number you want squares:5\n",
            "[1, 4, 9, 16, 25]\n"
          ],
          "name": "stdout"
        }
      ]
    },
    {
      "cell_type": "code",
      "metadata": {
        "colab": {
          "base_uri": "https://localhost:8080/"
        },
        "id": "gzijfXtsUiqO",
        "outputId": "49e9b11c-4fc3-4283-a1ec-0f0a5dbaedcf"
      },
      "source": [
        "#program to find area of circle \r\n",
        "PI = 3.14\r\n",
        "r = float(input(\"Enter the radius of the circle: \"))\r\n",
        "Area = PI * r * r\r\n",
        "print(\"area of the circle is\",Area)"
      ],
      "execution_count": null,
      "outputs": [
        {
          "output_type": "stream",
          "text": [
            "Enter the radius of the circle: 3\n",
            "area of the circle is 28.259999999999998\n"
          ],
          "name": "stdout"
        }
      ]
    },
    {
      "cell_type": "code",
      "metadata": {
        "colab": {
          "base_uri": "https://localhost:8080/"
        },
        "id": "EH3_1d8DlaLW",
        "outputId": "15466e9b-c0cb-4db2-ebfb-afaa54575d29"
      },
      "source": [
        "#print out all colors from colourlist 1 not contained in colourlist 2\r\n",
        "colourlist1=set([\"red\",\"green\",\"black\",\"orange\",\"white\",\"blue\",\"yellow\"])\r\n",
        "colourlist2=set([\"yellow\",\"brown\",\"green\",\"black\"])\r\n",
        "y=colourlist1.difference(colourlist2)\r\n",
        "print(y)"
      ],
      "execution_count": null,
      "outputs": [
        {
          "output_type": "stream",
          "text": [
            "{'red', 'orange', 'blue', 'white'}\n"
          ],
          "name": "stdout"
        }
      ]
    },
    {
      "cell_type": "code",
      "metadata": {
        "id": "QaViKWPnVSgk",
        "colab": {
          "base_uri": "https://localhost:8080/"
        },
        "outputId": "29d79276-eb4b-4dd7-f110-0a5fe84a58b0"
      },
      "source": [
        "# accept an integer n and compute n+nn+nnn\r\n",
        "a= int(input(\"enter an integer : \")) \r\n",
        "n1 = int( \"%s\" % a )\r\n",
        "n2 = int( \"%s%s\" % (a,a) ) \r\n",
        "n3 = int( \"%s%s%s\" % (a,a,a) )\r\n",
        "print (n1+n2+n3)"
      ],
      "execution_count": null,
      "outputs": [
        {
          "output_type": "stream",
          "text": [
            "enter an integer : 4\n",
            "492\n"
          ],
          "name": "stdout"
        }
      ]
    },
    {
      "cell_type": "code",
      "metadata": {
        "id": "uX28EXC5lMEV",
        "colab": {
          "base_uri": "https://localhost:8080/"
        },
        "outputId": "02e29454-a190-4351-a773-f45dd1186548"
      },
      "source": [
        "#find the biggest of 3 numbers entered\r\n",
        "n1=int(input(\"enter first number\":))\r\n",
        "n2=int(input(\"enter second number:\"))\r\n",
        "n3=int(input(\"enter third number:\"))\r\n",
        "if(n1>n2) and (n1>n3):\r\n",
        " bigger=n1\r\n",
        "elif(n2>n1) and (n2>n3):\r\n",
        " bigger=n2\r\n",
        "else:\r\n",
        "  bigger=n3\r\n",
        "  print(\"biggest number among 3 numbers is:\",bigger)"
      ],
      "execution_count": null,
      "outputs": [
        {
          "output_type": "stream",
          "text": [
            "enter first number12\n",
            "enter second number11\n",
            "enter third number23\n",
            "biggest number among 3 numbers is: 23\n"
          ],
          "name": "stdout"
        }
      ]
    }
  ]
}