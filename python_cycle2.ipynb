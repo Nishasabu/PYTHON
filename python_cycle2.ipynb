{
  "nbformat": 4,
  "nbformat_minor": 0,
  "metadata": {
    "colab": {
      "name": " python cycle2",
      "provenance": [],
      "collapsed_sections": [],
      "authorship_tag": "ABX9TyNi6/YAEubcwVeHQYnJWUr0",
      "include_colab_link": true
    },
    "kernelspec": {
      "name": "python3",
      "display_name": "Python 3"
    }
  },
  "cells": [
    {
      "cell_type": "markdown",
      "metadata": {
        "id": "view-in-github",
        "colab_type": "text"
      },
      "source": [
        "<a href=\"https://colab.research.google.com/github/Nishasabu/PYTHON/blob/main/python_cycle2.ipynb\" target=\"_parent\"><img src=\"https://colab.research.google.com/assets/colab-badge.svg\" alt=\"Open In Colab\"/></a>"
      ]
    },
    {
      "cell_type": "code",
      "metadata": {
        "colab": {
          "base_uri": "https://localhost:8080/"
        },
        "id": "ikguYFKaM4XP",
        "outputId": "089c0dae-edab-4479-8bf3-1a77b16c917d"
      },
      "source": [
        "#2.Display future leap years from current year to final year entered by user\r\n",
        "y = int(input(\"enter final leap year:\"))\r\n",
        "print (\"future leap year from 2021\")\r\n",
        "for  x  in range(2021 , y+1):\r\n",
        "   if ((x%4==0) and (x%100!=0 )):\r\n",
        "     print(x)"
      ],
      "execution_count": null,
      "outputs": [
        {
          "output_type": "stream",
          "text": [
            "enter final leap year:2041\n",
            "future leap year from 2021\n",
            "2024\n",
            "2028\n",
            "2032\n",
            "2036\n",
            "2040\n"
          ],
          "name": "stdout"
        }
      ]
    },
    {
      "cell_type": "code",
      "metadata": {
        "colab": {
          "base_uri": "https://localhost:8080/"
        },
        "id": "O07LfUnCkTix",
        "outputId": "d5dacf22-a0df-4322-c674-e231576f76d0"
      },
      "source": [
        "#3.(a) generate positive list of numbers from a given list of integers\r\n",
        "list1=[-10,2,5,7,9,23,56,-3,-6,-8,-2,-7,-5,-1,-11,21,22,18,-17,14,15,16]\r\n",
        "list2=[x for x in list1 if x>0]\r\n",
        "print(\"list of positive integers:\",list2)"
      ],
      "execution_count": null,
      "outputs": [
        {
          "output_type": "stream",
          "text": [
            "list of positive integers: [2, 5, 7, 9, 23, 56, 21, 22, 18, 14, 15, 16]\n"
          ],
          "name": "stdout"
        }
      ]
    },
    {
      "cell_type": "code",
      "metadata": {
        "colab": {
          "base_uri": "https://localhost:8080/"
        },
        "id": "jnyG1m00JOv6",
        "outputId": "7a2ce91a-4b9a-46b5-a635-d75b8bc9c292"
      },
      "source": [
        "#Qu 3.(b) square of n numbers\r\n",
        "n=int(input(\"Enter the number you want squares:\"))\r\n",
        "squares=[i*i for i in range(1,n+1)]\r\n",
        "print(\"Square of the numbers:\",squares)\r\n",
        "                                  "
      ],
      "execution_count": null,
      "outputs": [
        {
          "output_type": "stream",
          "text": [
            "Enter the number you want squares:8\n",
            "Square of the numbers: [1, 4, 9, 16, 25, 36, 49, 64]\n"
          ],
          "name": "stdout"
        }
      ]
    },
    {
      "cell_type": "code",
      "metadata": {
        "colab": {
          "base_uri": "https://localhost:8080/"
        },
        "id": "rDiqiaZJMln3",
        "outputId": "af230517-4ccd-4d04-9862-6ae39b57bcaa"
      },
      "source": [
        "#3(c).form a list of vowels selected from a given word\r\n",
        "n1=\"l show you that path\"\r\n",
        "vowels=['a','e','i','o','u']\r\n",
        "l1=[]\r\n",
        "for x in n1:\r\n",
        "  if(x in vowels and x not in l1):\r\n",
        "    l1.append(x)\r\n",
        "print(\"vowels present in the given statement\",l1)"
      ],
      "execution_count": null,
      "outputs": [
        {
          "output_type": "stream",
          "text": [
            "vowels present in the given statement ['o', 'u', 'a']\n"
          ],
          "name": "stdout"
        }
      ]
    },
    {
      "cell_type": "code",
      "metadata": {
        "colab": {
          "base_uri": "https://localhost:8080/"
        },
        "id": "ON79cUaciO8r",
        "outputId": "871df52c-f588-467e-e0df-2479a727eba2"
      },
      "source": [
        "#3(d)list ordinal value of each element of a word(hint:use ord() to get ordinal values)\r\n",
        "n1=input(\"enter a word:\")\r\n",
        "for l in range(len(n1)):\r\n",
        "  print(\"ordinal value of\",n1[l],\"is\",ord(n1[l]))"
      ],
      "execution_count": 14,
      "outputs": [
        {
          "output_type": "stream",
          "text": [
            "enter a word:mariya\n",
            "ordinal value of m is 109\n",
            "ordinal value of a is 97\n",
            "ordinal value of r is 114\n",
            "ordinal value of i is 105\n",
            "ordinal value of y is 121\n",
            "ordinal value of a is 97\n"
          ],
          "name": "stdout"
        }
      ]
    },
    {
      "cell_type": "code",
      "metadata": {
        "colab": {
          "base_uri": "https://localhost:8080/"
        },
        "id": "xO_v0Pr6MgEM",
        "outputId": "0e02deeb-6498-4475-8915-6fcdf529e0e6"
      },
      "source": [
        "#4.count the occurence of each word in a line of text\r\n",
        "def wordcount(str):\r\n",
        "    counts = {}\r\n",
        "    words = str.split()\r\n",
        "\r\n",
        "    for word in words:\r\n",
        "        if word in counts:\r\n",
        "            counts[word] += 1\r\n",
        "        else:\r\n",
        "            counts[word] = 1\r\n",
        "\r\n",
        "    return counts\r\n",
        "\r\n",
        "print( wordcount('the quick brown fox jumps over the lazy dog in there.'))\r\n"
      ],
      "execution_count": null,
      "outputs": [
        {
          "output_type": "stream",
          "text": [
            "{'the': 2, 'quick': 1, 'brown': 1, 'fox': 1, 'jumps': 1, 'over': 1, 'lazy': 1, 'dog': 1, 'in': 1, 'there.': 1}\n"
          ],
          "name": "stdout"
        }
      ]
    },
    {
      "cell_type": "code",
      "metadata": {
        "colab": {
          "base_uri": "https://localhost:8080/"
        },
        "id": "Nnwf0ey2nJ46",
        "outputId": "0a94b296-8cda-46a0-9552-ac2ff83b55e5"
      },
      "source": [
        "#5.prompt the user for a list of integers.for all values greater than 100,store 'over' instead \r\n",
        "x=[]\r\n",
        "n1=int(input(\"enter any integer:\"))\r\n",
        "for i in range(1,n1+1):\r\n",
        "   a=int(input())\r\n",
        "   if (a>100):\r\n",
        "     x.append('over')\r\n",
        "   else:\r\n",
        "     x.append(a)\r\n",
        "print(\"modified list:\",x)\r\n",
        "\r\n",
        "       "
      ],
      "execution_count": 22,
      "outputs": [
        {
          "output_type": "stream",
          "text": [
            "enter any integer:5\n",
            "200\n",
            "10\n",
            "80\n",
            "100\n",
            "490\n",
            "modified list: ['over', 10, 80, 100, 'over']\n"
          ],
          "name": "stdout"
        }
      ]
    },
    {
      "cell_type": "code",
      "metadata": {
        "colab": {
          "base_uri": "https://localhost:8080/"
        },
        "id": "Cpqv3fOvMbuq",
        "outputId": "37f3e184-4931-4566-86c4-2103cc932460"
      },
      "source": [
        "#6.store a list of first names.count the occurrences of a within the list\r\n",
        "list = [\"nisha\", \"bibin\", \"ashly\",\"raju\",\"meera\"]\r\n",
        "count=0\r\n",
        "for i in range(0,4):\r\n",
        " occurrences = list[0].count(\"a\")\r\n",
        " count=count+1\r\n",
        "\r\n",
        "\r\n",
        "print(\"occurence of a in the list is:\",count)"
      ],
      "execution_count": null,
      "outputs": [
        {
          "output_type": "stream",
          "text": [
            "occurence of a in the list is: 4\n"
          ],
          "name": "stdout"
        }
      ]
    },
    {
      "cell_type": "code",
      "metadata": {
        "colab": {
          "base_uri": "https://localhost:8080/"
        },
        "id": "R77KGt41t2e3",
        "outputId": "147ad6f2-22a0-4dcf-a3ce-e3ceb609fa8c"
      },
      "source": [
        "# Qu 7(a).enter 2 lists of integers,check whether list are of same length\r\n",
        "list1=[1,2,3,4,5,6,7,8]\r\n",
        "list2=[10,3,11,9,14,15,12,13,16]\r\n",
        "total=0\r\n",
        "print(\"length of list1 is :\",len(list1))\r\n",
        "print(\"length of list2 is:\",len(list2))\r\n",
        "if list1 == list2: \r\n",
        "    print (\"list1 and list2 have samelength\") \r\n",
        "else : \r\n",
        "    print (\"list1 and list2 not have a samelength\")\r\n",
        "\r\n",
        "\r\n"
      ],
      "execution_count": null,
      "outputs": [
        {
          "output_type": "stream",
          "text": [
            "length of list1 is : 8\n",
            "length of list2 is: 9\n",
            "list1 and list2 not have a samelength\n"
          ],
          "name": "stdout"
        }
      ]
    },
    {
      "cell_type": "code",
      "metadata": {
        "colab": {
          "base_uri": "https://localhost:8080/"
        },
        "id": "LtwAWCEnQYvO",
        "outputId": "9b9fac7f-5eba-425a-ca3d-2150552ed032"
      },
      "source": [
        "#Qu 7(b).check whether lists sum to same value\r\n",
        "Total1 =0\r\n",
        "Total2=0\r\n",
        "list1=[1,2,3,4,5,6,7,8]\r\n",
        "list2=[10,3,11,9,14,15,12,13,16]\r\n",
        "for ele in range(0, len(list1)):\r\n",
        "    Total1 = Total1 + list1[ele]\r\n",
        "print(\"Sum of  elements in list1: \", Total1)\r\n",
        "for ele in range(0, len(list2)):\r\n",
        "    Total2 = Total2 + list2[ele]\r\n",
        "print(\"Sum of  elements in list2: \", Total2)\r\n",
        "# check that the two list have same sum\r\n",
        "if(Total1==Total2):\r\n",
        "  print(\"The sum of elements in list1 and list2 is same\")\r\n",
        "else:\r\n",
        "  print(\"The sum of  elements in list1 and list2 is different\")\r\n"
      ],
      "execution_count": null,
      "outputs": [
        {
          "output_type": "stream",
          "text": [
            "Sum of  elements in list1:  36\n",
            "Sum of  elements in list2:  103\n",
            "The sum of  elements in list1 and list2 is different\n"
          ],
          "name": "stdout"
        }
      ]
    },
    {
      "cell_type": "code",
      "metadata": {
        "colab": {
          "base_uri": "https://localhost:8080/"
        },
        "id": "dNYRwtzzmzSu",
        "outputId": "02c0b5a3-2bd9-4f66-826f-ea946b1dd742"
      },
      "source": [
        "# Qu 7(c).check whether any value occur in both list\r\n",
        "list1=[1,2,3,4,5,6,7,8]\r\n",
        "setlist1=set(list1)\r\n",
        "list2=[10,3,11,9,14,15,12,13,16]\r\n",
        "setlist2=set(list2)\r\n",
        "print(\"Set of first list:\",setlist1)\r\n",
        "print(\"set of second list:\",setlist2)\r\n",
        "z=setlist1.intersection(setlist2)\r\n",
        "print(\"common value present in list1 and list2 is:\",z)"
      ],
      "execution_count": null,
      "outputs": [
        {
          "output_type": "stream",
          "text": [
            "Set of first list: {1, 2, 3, 4, 5, 6, 7, 8}\n",
            "set of second list: {3, 9, 10, 11, 12, 13, 14, 15, 16}\n",
            "common value present in list1 and list2 is: {3}\n"
          ],
          "name": "stdout"
        }
      ]
    },
    {
      "cell_type": "code",
      "metadata": {
        "colab": {
          "base_uri": "https://localhost:8080/"
        },
        "id": "gOEDIEM-MUq6",
        "outputId": "1e9248eb-f9eb-42bb-86c2-e2691ba2e5af"
      },
      "source": [
        "#8.get a string from an input string where all occurrences of first character replaced with $, except first character\r\n",
        "c=input(\"enter the string:\")\r\n",
        "temp = c[0]\r\n",
        "\r\n",
        "for i in range(1,len(c)):\r\n",
        "\r\n",
        "    if(c[0] == c[i] ):\r\n",
        "\r\n",
        "        temp = temp + '$'\r\n",
        "\r\n",
        "    else:\r\n",
        "\r\n",
        "        temp = temp + c[i]\r\n",
        "print(\"After replacement:\",temp)"
      ],
      "execution_count": null,
      "outputs": [
        {
          "output_type": "stream",
          "text": [
            "enter the string:oreo\n",
            "After replacement: ore$\n"
          ],
          "name": "stdout"
        }
      ]
    },
    {
      "cell_type": "code",
      "metadata": {
        "colab": {
          "base_uri": "https://localhost:8080/"
        },
        "id": "nkfgPlLnMPli",
        "outputId": "997fb341-a37d-439b-c7e9-6bb320e5311b"
      },
      "source": [
        "#9.create a string from given string where first and last character exchanged\r\n",
        "x=\"Mariyan\"\r\n",
        "print(\"Given string:\",x)\r\n",
        "print(\"After exchanging the first and last character:\",x[6]+x[1]+x[2]+x[3]+x[4]+x[5]+x[0])\r\n"
      ],
      "execution_count": null,
      "outputs": [
        {
          "output_type": "stream",
          "text": [
            "Given string: Mariyan\n",
            "After exchanging the first and last character: nariyaM\n"
          ],
          "name": "stdout"
        }
      ]
    },
    {
      "cell_type": "code",
      "metadata": {
        "colab": {
          "base_uri": "https://localhost:8080/"
        },
        "id": "gzijfXtsUiqO",
        "outputId": "49e9b11c-4fc3-4283-a1ec-0f0a5dbaedcf"
      },
      "source": [
        "# Qu 10.program to find area of circle \r\n",
        "PI = 3.14\r\n",
        "r = float(input(\"Enter the radius of the circle: \"))\r\n",
        "Area = PI * r * r\r\n",
        "print(\"Area of the circle is\",Area)"
      ],
      "execution_count": null,
      "outputs": [
        {
          "output_type": "stream",
          "text": [
            "Enter the radius of the circle: 3\n",
            "area of the circle is 28.259999999999998\n"
          ],
          "name": "stdout"
        }
      ]
    },
    {
      "cell_type": "code",
      "metadata": {
        "id": "uX28EXC5lMEV",
        "colab": {
          "base_uri": "https://localhost:8080/"
        },
        "outputId": "c2e8f160-42ea-44d3-f629-17acead97924"
      },
      "source": [
        "#Qu 11.find the biggest of 3 numbers entered\r\n",
        "n1=int(input(\"Enter first number:\"))\r\n",
        "n2=int(input(\"Enter second number:\"))\r\n",
        "n3=int(input(\"Enter third number:\"))\r\n",
        "if(n1>n2) and (n1>n3):\r\n",
        " bigger=n1\r\n",
        "elif(n2>n1) and (n2>n3):\r\n",
        " bigger=n2\r\n",
        "else:\r\n",
        "  bigger=n3\r\n",
        "  print(\"Biggest number among 3 numbers is:\",bigger)"
      ],
      "execution_count": null,
      "outputs": [
        {
          "output_type": "stream",
          "text": [
            "Enter first number:11\n",
            "Enter second number:12\n",
            "Enter third number:20\n",
            "Biggest number among 3 numbers is: 20\n"
          ],
          "name": "stdout"
        }
      ]
    },
    {
      "cell_type": "code",
      "metadata": {
        "id": "vWUZund1uCZT",
        "colab": {
          "base_uri": "https://localhost:8080/"
        },
        "outputId": "38561066-8390-4e5e-d475-599f787512b7"
      },
      "source": [
        "# Qu 12.Accept a file name from user and print extension of that\r\n",
        "filename= input(\"Enter Filename: \")\r\n",
        "f = filename.split(\".\")\r\n",
        "\r\n",
        "print (\"Extension of the file is : \" + f[-1])"
      ],
      "execution_count": null,
      "outputs": [
        {
          "output_type": "stream",
          "text": [
            "Enter Filename: sample.txt\n",
            "Extension of the file is : txt\n"
          ],
          "name": "stdout"
        }
      ]
    },
    {
      "cell_type": "code",
      "metadata": {
        "colab": {
          "base_uri": "https://localhost:8080/"
        },
        "id": "p-ciyWGUIAqY",
        "outputId": "c934cfa7-440b-4666-a1a7-365722f36dfa"
      },
      "source": [
        "# Qu 13.create a list of colors from comma separated color names entered by user.display first and last color\r\n",
        "colorlist = [\"Red\",\"Green\",\"White\" ,\"Black\"]\r\n",
        "print(\"The first and last color of the colourlist is:\",colorlist[0],\"and\",colorlist[-1])\r\n",
        "\r\n"
      ],
      "execution_count": null,
      "outputs": [
        {
          "output_type": "stream",
          "text": [
            "The first and last color of the colourlist is: Red and Black\n"
          ],
          "name": "stdout"
        }
      ]
    },
    {
      "cell_type": "code",
      "metadata": {
        "id": "QaViKWPnVSgk",
        "colab": {
          "base_uri": "https://localhost:8080/"
        },
        "outputId": "4ee4160d-428b-413e-c4f6-a9d177c70314"
      },
      "source": [
        "# Qu 14.Accept an integer n and compute n+nn+nnn\r\n",
        "a= int(input(\"Enter an integer : \")) \r\n",
        "n1 = int( \"%s\" % a )\r\n",
        "n2 = int( \"%s%s\" % (a,a) ) \r\n",
        "n3 = int( \"%s%s%s\" % (a,a,a) )\r\n",
        "print (\"n+nn+nnn=\",n1+n2+n3)"
      ],
      "execution_count": null,
      "outputs": [
        {
          "output_type": "stream",
          "text": [
            "Enter an integer : 6\n",
            "n+nn+nnn= 738\n"
          ],
          "name": "stdout"
        }
      ]
    },
    {
      "cell_type": "code",
      "metadata": {
        "colab": {
          "base_uri": "https://localhost:8080/"
        },
        "id": "EH3_1d8DlaLW",
        "outputId": "ebc3588e-9a27-491f-80ce-4e3d113dc23f"
      },
      "source": [
        "#Qu 15.print out all colors from colourlist 1 not contained in colourlist 2\r\n",
        "colourlist1=set([\"red\",\"green\",\"black\",\"orange\",\"white\",\"blue\",\"yellow\"])\r\n",
        "colourlist2=set([\"yellow\",\"brown\",\"green\",\"black\"])\r\n",
        "y=colourlist1.difference(colourlist2)\r\n",
        "print(\"New colourlist:\",y)"
      ],
      "execution_count": null,
      "outputs": [
        {
          "output_type": "stream",
          "text": [
            "New colourlist: {'orange', 'white', 'red', 'blue'}\n"
          ],
          "name": "stdout"
        }
      ]
    },
    {
      "cell_type": "code",
      "metadata": {
        "colab": {
          "base_uri": "https://localhost:8080/"
        },
        "id": "XyUF_YelMJ4F",
        "outputId": "fdf6f07e-cf0c-4661-d5a0-79efd214d325"
      },
      "source": [
        "#16.create a single string separated with space from two strings by swapping the character at position 1\r\n",
        "a=input(\"enter first string:\")\r\n",
        "b=input(\"enter second string:\")\r\n",
        "x=a[0:2]\r\n",
        "a=a.replace(a[0:2],b[0:2])\r\n",
        "b=b.replace(b[0:2],x)\r\n",
        "print(\"After swapping two strings:\",a,b)"
      ],
      "execution_count": null,
      "outputs": [
        {
          "output_type": "stream",
          "text": [
            "enter first string:jkl\n",
            "enter second string:asd\n",
            "After swapping two strings: asl jkd\n"
          ],
          "name": "stdout"
        }
      ]
    },
    {
      "cell_type": "code",
      "metadata": {
        "colab": {
          "base_uri": "https://localhost:8080/"
        },
        "id": "8ZIohgLrL--d",
        "outputId": "1eb56d84-29df-4f67-d4cb-8d12fe6d916d"
      },
      "source": [
        "#17.sort dictionary in ascending and descending order\r\n",
        "y={'christy':40,'albin':2,'boby':1,'dony':3} \r\n",
        "                                         \r\n",
        "l=list(y.items()) \r\n",
        "print(\"dictionary is=\",l)  \r\n",
        "l.sort()            \r\n",
        "print('Ascending order is',l)\r\n",
        "\r\n",
        "l=list(y.items())\r\n",
        "l.sort(reverse=True)\r\n",
        "print('Descending order is',l)\r\n"
      ],
      "execution_count": null,
      "outputs": [
        {
          "output_type": "stream",
          "text": [
            "dictionary is= [('christy', 40), ('albin', 2), ('boby', 1), ('dony', 3)]\n",
            "Ascending order is [('albin', 2), ('boby', 1), ('christy', 40), ('dony', 3)]\n",
            "Descending order is [('dony', 3), ('christy', 40), ('boby', 1), ('albin', 2)]\n"
          ],
          "name": "stdout"
        }
      ]
    },
    {
      "cell_type": "code",
      "metadata": {
        "colab": {
          "base_uri": "https://localhost:8080/"
        },
        "id": "ygyffhLllJPd",
        "outputId": "33fa54b1-dfb8-4432-e0ef-a1fead70cc77"
      },
      "source": [
        "#Qu 18. Merge two dictionaries\r\n",
        "dict1 = {'a': 1, 'b': 2, 'c': 3, 'd':4}\r\n",
        "dict2 = {'e': 5, 'f': 6, 'g':7, 'h':8}\r\n",
        "dict1.update(dict2)\r\n",
        "print(\"Dictionary after merging dict1 and dict2 is:\",dict1)"
      ],
      "execution_count": null,
      "outputs": [
        {
          "output_type": "stream",
          "text": [
            "Dictionary after merging dict1 and dict2 is: {'a': 1, 'b': 2, 'c': 3, 'd': 4, 'e': 5, 'f': 6, 'g': 7, 'h': 8}\n"
          ],
          "name": "stdout"
        }
      ]
    },
    {
      "cell_type": "code",
      "metadata": {
        "colab": {
          "base_uri": "https://localhost:8080/"
        },
        "id": "1rt8MpiN-jEi",
        "outputId": "48ee00ed-6730-4331-e24b-ea2ae2f0ae54"
      },
      "source": [
        "# Qu 19.Find GCD of 2 numbers\r\n",
        "num1 = int(input(\"Enter 1st number: \"))\r\n",
        "num2 = int(input(\"Enter 2nd number: \"))\r\n",
        "i = 1\r\n",
        "while(i <= num1 and i <= num2):\r\n",
        "  if(num1 % i == 0 and num2 % i == 0):\r\n",
        "    gcd = i\r\n",
        "  i = i + 1\r\n",
        "print(\"GCD of two numbers is\", gcd)"
      ],
      "execution_count": null,
      "outputs": [
        {
          "output_type": "stream",
          "text": [
            "Enter 1st number: 24\n",
            "Enter 2nd number: 27\n",
            "GCD of two numbers is 3\n"
          ],
          "name": "stdout"
        }
      ]
    },
    {
      "cell_type": "code",
      "metadata": {
        "colab": {
          "base_uri": "https://localhost:8080/"
        },
        "id": "_PsXGpvY_ZSh",
        "outputId": "8ae52497-e616-4d23-a5bf-d8eac79bbb49"
      },
      "source": [
        "# Qu 20.Form a list of integers,create a list removing even numbers\r\n",
        "numbers=[1,2,3,4,5,6,7,8,9,10,11]\r\n",
        "numbers=[x for x in numbers if x%2!=0]\r\n",
        "print(\"New list of integers after removing even numbers:\",numbers)"
      ],
      "execution_count": null,
      "outputs": [
        {
          "output_type": "stream",
          "text": [
            "New list of integers after removing even numbers: [1, 3, 5, 7, 9, 11]\n"
          ],
          "name": "stdout"
        }
      ]
    }
  ]
}