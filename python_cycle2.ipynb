{
  "nbformat": 4,
  "nbformat_minor": 0,
  "metadata": {
    "colab": {
      "name": "python cycle2",
      "provenance": [],
      "collapsed_sections": [],
      "authorship_tag": "ABX9TyMGuxtKPDQLhoQgZ9HBL5Il",
      "include_colab_link": true
    },
    "kernelspec": {
      "name": "python3",
      "display_name": "Python 3"
    }
  },
  "cells": [
    {
      "cell_type": "markdown",
      "metadata": {
        "id": "view-in-github",
        "colab_type": "text"
      },
      "source": [
        "<a href=\"https://colab.research.google.com/github/Nishasabu/PYTHON/blob/main/python_cycle2.ipynb\" target=\"_parent\"><img src=\"https://colab.research.google.com/assets/colab-badge.svg\" alt=\"Open In Colab\"/></a>"
      ]
    },
    {
      "cell_type": "code",
      "metadata": {
        "colab": {
          "base_uri": "https://localhost:8080/"
        },
        "id": "gzijfXtsUiqO",
        "outputId": "49e9b11c-4fc3-4283-a1ec-0f0a5dbaedcf"
      },
      "source": [
        "# Qu 10.program to find area of circle \r\n",
        "PI = 3.14\r\n",
        "r = float(input(\"Enter the radius of the circle: \"))\r\n",
        "Area = PI * r * r\r\n",
        "print(\"Area of the circle is\",Area)"
      ],
      "execution_count": null,
      "outputs": [
        {
          "output_type": "stream",
          "text": [
            "Enter the radius of the circle: 3\n",
            "area of the circle is 28.259999999999998\n"
          ],
          "name": "stdout"
        }
      ]
    },
    {
      "cell_type": "code",
      "metadata": {
        "colab": {
          "base_uri": "https://localhost:8080/"
        },
        "id": "p-ciyWGUIAqY",
        "outputId": "c934cfa7-440b-4666-a1a7-365722f36dfa"
      },
      "source": [
        "# Qu 13.create a list of colors from comma separated color names entered by user.display first and last color\r\n",
        "colorlist = [\"Red\",\"Green\",\"White\" ,\"Black\"]\r\n",
        "print(\"The first and last color of the colourlist is:\",colorlist[0],\"and\",colorlist[-1])\r\n",
        "\r\n"
      ],
      "execution_count": 100,
      "outputs": [
        {
          "output_type": "stream",
          "text": [
            "The first and last color of the colourlist is: Red and Black\n"
          ],
          "name": "stdout"
        }
      ]
    },
    {
      "cell_type": "code",
      "metadata": {
        "colab": {
          "base_uri": "https://localhost:8080/"
        },
        "id": "R77KGt41t2e3",
        "outputId": "147ad6f2-22a0-4dcf-a3ce-e3ceb609fa8c"
      },
      "source": [
        "# Qu 7(a).enter 2 lists of integers,check whether list are of same length\r\n",
        "list1=[1,2,3,4,5,6,7,8]\r\n",
        "list2=[10,3,11,9,14,15,12,13,16]\r\n",
        "total=0\r\n",
        "print(\"length of list1 is :\",len(list1))\r\n",
        "print(\"length of list2 is:\",len(list2))\r\n",
        "if list1 == list2: \r\n",
        "    print (\"list1 and list2 have samelength\") \r\n",
        "else : \r\n",
        "    print (\"list1 and list2 not have a samelength\")\r\n",
        "\r\n",
        "\r\n"
      ],
      "execution_count": 104,
      "outputs": [
        {
          "output_type": "stream",
          "text": [
            "length of list1 is : 8\n",
            "length of list2 is: 9\n",
            "list1 and list2 not have a samelength\n"
          ],
          "name": "stdout"
        }
      ]
    },
    {
      "cell_type": "code",
      "metadata": {
        "colab": {
          "base_uri": "https://localhost:8080/"
        },
        "id": "LtwAWCEnQYvO",
        "outputId": "9b9fac7f-5eba-425a-ca3d-2150552ed032"
      },
      "source": [
        "#Qu 7(b).check whether lists sum to same value\r\n",
        "Total1 =0\r\n",
        "Total2=0\r\n",
        "list1=[1,2,3,4,5,6,7,8]\r\n",
        "list2=[10,3,11,9,14,15,12,13,16]\r\n",
        "for ele in range(0, len(list1)):\r\n",
        "    Total1 = Total1 + list1[ele]\r\n",
        "print(\"Sum of  elements in list1: \", Total1)\r\n",
        "for ele in range(0, len(list2)):\r\n",
        "    Total2 = Total2 + list2[ele]\r\n",
        "print(\"Sum of  elements in list2: \", Total2)\r\n",
        "# check that the two list have same sum\r\n",
        "if(Total1==Total2):\r\n",
        "  print(\"The sum of elements in list1 and list2 is same\")\r\n",
        "else:\r\n",
        "  print(\"The sum of  elements in list1 and list2 is different\")\r\n"
      ],
      "execution_count": 84,
      "outputs": [
        {
          "output_type": "stream",
          "text": [
            "Sum of  elements in list1:  36\n",
            "Sum of  elements in list2:  103\n",
            "The sum of  elements in list1 and list2 is different\n"
          ],
          "name": "stdout"
        }
      ]
    },
    {
      "cell_type": "code",
      "metadata": {
        "colab": {
          "base_uri": "https://localhost:8080/"
        },
        "id": "dNYRwtzzmzSu",
        "outputId": "02c0b5a3-2bd9-4f66-826f-ea946b1dd742"
      },
      "source": [
        "# Qu 7(c).check whether any value occur in both list\r\n",
        "list1=[1,2,3,4,5,6,7,8]\r\n",
        "setlist1=set(list1)\r\n",
        "list2=[10,3,11,9,14,15,12,13,16]\r\n",
        "setlist2=set(list2)\r\n",
        "print(\"Set of first list:\",setlist1)\r\n",
        "print(\"set of second list:\",setlist2)\r\n",
        "z=setlist1.intersection(setlist2)\r\n",
        "print(\"common value present in list1 and list2 is:\",z)"
      ],
      "execution_count": 78,
      "outputs": [
        {
          "output_type": "stream",
          "text": [
            "Set of first list: {1, 2, 3, 4, 5, 6, 7, 8}\n",
            "set of second list: {3, 9, 10, 11, 12, 13, 14, 15, 16}\n",
            "common value present in list1 and list2 is: {3}\n"
          ],
          "name": "stdout"
        }
      ]
    },
    {
      "cell_type": "code",
      "metadata": {
        "id": "vWUZund1uCZT",
        "colab": {
          "base_uri": "https://localhost:8080/"
        },
        "outputId": "38561066-8390-4e5e-d475-599f787512b7"
      },
      "source": [
        "# Qu 14.Accept a file name from user and print extension of that\r\n",
        "filename= input(\"Enter Filename: \")\r\n",
        "f = filename.split(\".\")\r\n",
        "\r\n",
        "print (\"Extension of the file is : \" + f[-1])"
      ],
      "execution_count": null,
      "outputs": [
        {
          "output_type": "stream",
          "text": [
            "Enter Filename: sample.txt\n",
            "Extension of the file is : txt\n"
          ],
          "name": "stdout"
        }
      ]
    },
    {
      "cell_type": "code",
      "metadata": {
        "colab": {
          "base_uri": "https://localhost:8080/"
        },
        "id": "O07LfUnCkTix",
        "outputId": "d5dacf22-a0df-4322-c674-e231576f76d0"
      },
      "source": [
        "#3.(a) generate positive list of numbers from a given list of integers\r\n",
        "list1=[-10,2,5,7,9,23,56,-3,-6,-8,-2,-7,-5,-1,-11,21,22,18,-17,14,15,16]\r\n",
        "list2=[x for x in list1 if x>0]\r\n",
        "print(\"list of positive integers:\",list2)"
      ],
      "execution_count": null,
      "outputs": [
        {
          "output_type": "stream",
          "text": [
            "list of positive integers: [2, 5, 7, 9, 23, 56, 21, 22, 18, 14, 15, 16]\n"
          ],
          "name": "stdout"
        }
      ]
    },
    {
      "cell_type": "code",
      "metadata": {
        "colab": {
          "base_uri": "https://localhost:8080/"
        },
        "id": "jnyG1m00JOv6",
        "outputId": "7a2ce91a-4b9a-46b5-a635-d75b8bc9c292"
      },
      "source": [
        "#Qu 3.(b) square of n numbers\r\n",
        "n=int(input(\"Enter the number you want squares:\"))\r\n",
        "squares=[i*i for i in range(1,n+1)]\r\n",
        "print(\"Square of the numbers:\",squares)\r\n",
        "                                  "
      ],
      "execution_count": 107,
      "outputs": [
        {
          "output_type": "stream",
          "text": [
            "Enter the number you want squares:8\n",
            "Square of the numbers: [1, 4, 9, 16, 25, 36, 49, 64]\n"
          ],
          "name": "stdout"
        }
      ]
    },
    {
      "cell_type": "code",
      "metadata": {
        "colab": {
          "base_uri": "https://localhost:8080/"
        },
        "id": "EH3_1d8DlaLW",
        "outputId": "ebc3588e-9a27-491f-80ce-4e3d113dc23f"
      },
      "source": [
        "#Qu 13.print out all colors from colourlist 1 not contained in colourlist 2\r\n",
        "colourlist1=set([\"red\",\"green\",\"black\",\"orange\",\"white\",\"blue\",\"yellow\"])\r\n",
        "colourlist2=set([\"yellow\",\"brown\",\"green\",\"black\"])\r\n",
        "y=colourlist1.difference(colourlist2)\r\n",
        "print(\"New colourlist:\",y)"
      ],
      "execution_count": 99,
      "outputs": [
        {
          "output_type": "stream",
          "text": [
            "New colourlist: {'orange', 'white', 'red', 'blue'}\n"
          ],
          "name": "stdout"
        }
      ]
    },
    {
      "cell_type": "code",
      "metadata": {
        "id": "QaViKWPnVSgk",
        "colab": {
          "base_uri": "https://localhost:8080/"
        },
        "outputId": "4ee4160d-428b-413e-c4f6-a9d177c70314"
      },
      "source": [
        "# Qu 14.Accept an integer n and compute n+nn+nnn\r\n",
        "a= int(input(\"Enter an integer : \")) \r\n",
        "n1 = int( \"%s\" % a )\r\n",
        "n2 = int( \"%s%s\" % (a,a) ) \r\n",
        "n3 = int( \"%s%s%s\" % (a,a,a) )\r\n",
        "print (\"n+nn+nnn=\",n1+n2+n3)"
      ],
      "execution_count": 98,
      "outputs": [
        {
          "output_type": "stream",
          "text": [
            "Enter an integer : 6\n",
            "n+nn+nnn= 738\n"
          ],
          "name": "stdout"
        }
      ]
    },
    {
      "cell_type": "code",
      "metadata": {
        "colab": {
          "base_uri": "https://localhost:8080/"
        },
        "id": "ygyffhLllJPd",
        "outputId": "33fa54b1-dfb8-4432-e0ef-a1fead70cc77"
      },
      "source": [
        "#Qu 18. Merge two dictionaries\r\n",
        "dict1 = {'a': 1, 'b': 2, 'c': 3, 'd':4}\r\n",
        "dict2 = {'e': 5, 'f': 6, 'g':7, 'h':8}\r\n",
        "dict1.update(dict2)\r\n",
        "print(\"Dictionary after merging dict1 and dict2 is:\",dict1)"
      ],
      "execution_count": 97,
      "outputs": [
        {
          "output_type": "stream",
          "text": [
            "Dictionary after merging dict1 and dict2 is: {'a': 1, 'b': 2, 'c': 3, 'd': 4, 'e': 5, 'f': 6, 'g': 7, 'h': 8}\n"
          ],
          "name": "stdout"
        }
      ]
    },
    {
      "cell_type": "code",
      "metadata": {
        "id": "uX28EXC5lMEV",
        "colab": {
          "base_uri": "https://localhost:8080/"
        },
        "outputId": "c2e8f160-42ea-44d3-f629-17acead97924"
      },
      "source": [
        "#Qu 11.find the biggest of 3 numbers entered\r\n",
        "n1=int(input(\"Enter first number:\"))\r\n",
        "n2=int(input(\"Enter second number:\"))\r\n",
        "n3=int(input(\"Enter third number:\"))\r\n",
        "if(n1>n2) and (n1>n3):\r\n",
        " bigger=n1\r\n",
        "elif(n2>n1) and (n2>n3):\r\n",
        " bigger=n2\r\n",
        "else:\r\n",
        "  bigger=n3\r\n",
        "  print(\"Biggest number among 3 numbers is:\",bigger)"
      ],
      "execution_count": 91,
      "outputs": [
        {
          "output_type": "stream",
          "text": [
            "Enter first number:11\n",
            "Enter second number:12\n",
            "Enter third number:20\n",
            "Biggest number among 3 numbers is: 20\n"
          ],
          "name": "stdout"
        }
      ]
    },
    {
      "cell_type": "code",
      "metadata": {
        "colab": {
          "base_uri": "https://localhost:8080/"
        },
        "id": "1rt8MpiN-jEi",
        "outputId": "48ee00ed-6730-4331-e24b-ea2ae2f0ae54"
      },
      "source": [
        "# Qu 19.Find GCD of 2 numbers\r\n",
        "num1 = int(input(\"Enter 1st number: \"))\r\n",
        "num2 = int(input(\"Enter 2nd number: \"))\r\n",
        "i = 1\r\n",
        "while(i <= num1 and i <= num2):\r\n",
        "  if(num1 % i == 0 and num2 % i == 0):\r\n",
        "    gcd = i\r\n",
        "  i = i + 1\r\n",
        "print(\"GCD of two numbers is\", gcd)"
      ],
      "execution_count": 96,
      "outputs": [
        {
          "output_type": "stream",
          "text": [
            "Enter 1st number: 24\n",
            "Enter 2nd number: 27\n",
            "GCD of two numbers is 3\n"
          ],
          "name": "stdout"
        }
      ]
    },
    {
      "cell_type": "code",
      "metadata": {
        "colab": {
          "base_uri": "https://localhost:8080/"
        },
        "id": "_PsXGpvY_ZSh",
        "outputId": "8ae52497-e616-4d23-a5bf-d8eac79bbb49"
      },
      "source": [
        "# Qu 20.Form a list of integers,create a list removing even numbers\r\n",
        "numbers=[1,2,3,4,5,6,7,8,9,10,11]\r\n",
        "numbers=[x for x in numbers if x%2!=0]\r\n",
        "print(\"New list of integers after removing even numbers:\",numbers)"
      ],
      "execution_count": 92,
      "outputs": [
        {
          "output_type": "stream",
          "text": [
            "New list of integers after removing even numbers: [1, 3, 5, 7, 9, 11]\n"
          ],
          "name": "stdout"
        }
      ]
    }
  ]
}