{
  "nbformat": 4,
  "nbformat_minor": 0,
  "metadata": {
    "colab": {
      "name": "Pythoncycle3.ipynb",
      "provenance": [],
      "collapsed_sections": [],
      "authorship_tag": "ABX9TyPd/cNmjyi/Wmeq4Dm3a07Z",
      "include_colab_link": true
    },
    "kernelspec": {
      "display_name": "Python 3",
      "name": "python3"
    }
  },
  "cells": [
    {
      "cell_type": "markdown",
      "metadata": {
        "id": "view-in-github",
        "colab_type": "text"
      },
      "source": [
        "<a href=\"https://colab.research.google.com/github/Nishasabu/PYTHON/blob/main/Pythoncycle3.ipynb\" target=\"_parent\"><img src=\"https://colab.research.google.com/assets/colab-badge.svg\" alt=\"Open In Colab\"/></a>"
      ]
    },
    {
      "cell_type": "code",
      "metadata": {
        "colab": {
          "background_save": true,
          "base_uri": "https://localhost:8080/"
        },
        "id": "kH3P1FmYrOZY",
        "outputId": "c7807bc5-4006-4cf9-d655-03083a7c476d"
      },
      "source": [
        "# 1.programme to find the factorial of a number\r\n",
        "num=int(input(\"enter the number\"))\r\n",
        "factorial=1  \r\n",
        "for i in range(1,num +1):\r\n",
        "       factorial = factorial*i\r\n",
        "print(\"The factorial of\",num,\"is\",factorial)"
      ],
      "execution_count": null,
      "outputs": [
        {
          "output_type": "stream",
          "text": [
            "The factorial of 5 is 120\n"
          ],
          "name": "stdout"
        }
      ]
    },
    {
      "cell_type": "code",
      "metadata": {
        "colab": {
          "base_uri": "https://localhost:8080/"
        },
        "id": "cTwQQEh2gGAp",
        "outputId": "425a424a-3990-4af4-f13d-f7765d2a77ce"
      },
      "source": [
        "#2.Generate Fibonacci series of N terms\r\n",
        "\r\n",
        "nterms = int(input(\"How many terms? \"))\r\n",
        "n1, n2 = 0, 1\r\n",
        "count = 0\r\n",
        "while count < nterms:\r\n",
        "       print(n1)\r\n",
        "       nth = n1 + n2\r\n",
        "       n1 = n2\r\n",
        "       n2 = nth\r\n",
        "       count += 1"
      ],
      "execution_count": 4,
      "outputs": [
        {
          "output_type": "stream",
          "text": [
            "How many terms? 4\n",
            "0\n",
            "1\n",
            "1\n",
            "2\n"
          ],
          "name": "stdout"
        }
      ]
    },
    {
      "cell_type": "code",
      "metadata": {
        "colab": {
          "base_uri": "https://localhost:8080/"
        },
        "id": "aaEHWadOFoyi",
        "outputId": "f1fd5db3-59d4-44a2-cd9d-fc23f6f3361f"
      },
      "source": [
        "#3.find the sum of all items in a list\n",
        "n1=[1,2,3,4,5,6,12,14]\n",
        "sum=0\n",
        "for x in range(0,len(n1)):\n",
        "   sum=sum+n1[x]\n",
        "print(\"sum of the list n1:\",sum)"
      ],
      "execution_count": null,
      "outputs": [
        {
          "output_type": "stream",
          "text": [
            "sum of the list n1: 47\n"
          ],
          "name": "stdout"
        }
      ]
    },
    {
      "cell_type": "code",
      "metadata": {
        "colab": {
          "base_uri": "https://localhost:8080/"
        },
        "id": "haiemCNjEmms",
        "outputId": "62557875-29ff-4c9f-8e65-37254741f8f1"
      },
      "source": [
        "#5 pyramid using number\r\n",
        "row = int(input('Enter how many lines? '))\r\n",
        "for i in range(1,row+1):\r\n",
        "    \r\n",
        "    for j in range(1, row+1-i):\r\n",
        "        print(' ', end='')\r\n",
        "    \r\n",
        "    for j in range(1,i+1):\r\n",
        "        print(j, end='')\r\n",
        "     \r\n",
        "    for j in range(i-1,0,-1):\r\n",
        "        print(j, end='')\r\n",
        "    \r\n",
        "    print()"
      ],
      "execution_count": null,
      "outputs": [
        {
          "output_type": "stream",
          "text": [
            "Enter how many lines? 6\n",
            "     1\n",
            "    121\n",
            "   12321\n",
            "  1234321\n",
            " 123454321\n",
            "12345654321\n"
          ],
          "name": "stdout"
        }
      ]
    },
    {
      "cell_type": "code",
      "metadata": {
        "colab": {
          "base_uri": "https://localhost:8080/"
        },
        "id": "e1Eoxac7N_hi",
        "outputId": "3fea8121-0103-420f-d849-bcb18bcc8a2b"
      },
      "source": [
        "#6. Count the number of characters (character frequency) in a string.\r\n",
        "def char_frequency(str1):\r\n",
        "    dict = {}\r\n",
        "    for n in str1:\r\n",
        "        keys = dict.keys()\r\n",
        "        if n in keys:\r\n",
        "            dict[n] += 1\r\n",
        "        else:\r\n",
        "            dict[n] = 1\r\n",
        "    return dict\r\n",
        "print(char_frequency('google.com'))"
      ],
      "execution_count": null,
      "outputs": [
        {
          "output_type": "stream",
          "text": [
            "{'g': 2, 'o': 3, 'l': 1, 'e': 1, '.': 1, 'c': 1, 'm': 1}\n"
          ],
          "name": "stdout"
        }
      ]
    },
    {
      "cell_type": "code",
      "metadata": {
        "colab": {
          "base_uri": "https://localhost:8080/"
        },
        "id": "ZyP6oDQHqw-g",
        "outputId": "c2e75a0a-ef1c-4b5f-f7fa-bdd0cf38f5bd"
      },
      "source": [
        "#7.Add ‘ing’ at the end of a given string. If it already ends with ‘ing’, then add ‘ly’\r\n",
        "n1=input(\"Enter the string:\")\r\n",
        "if(n1[-3:]==\"ing\"):\r\n",
        "  n2=n1.replace(\"ing\",\"iy\")\r\n",
        "elif(n1[-3]!=\"ing\"):\r\n",
        "  n2=n1+\"ing\"\r\n",
        "\r\n",
        "print(n2)"
      ],
      "execution_count": null,
      "outputs": [
        {
          "output_type": "stream",
          "text": [
            "Enter the string:carry\n",
            "carrying\n"
          ],
          "name": "stdout"
        }
      ]
    },
    {
      "cell_type": "code",
      "metadata": {
        "colab": {
          "base_uri": "https://localhost:8080/"
        },
        "id": "sW9jUUuI9oTl",
        "outputId": "516ea184-d625-46ad-9d81-a3cd24e3cc95"
      },
      "source": [
        "# 8. Accept a list of words and return length of longest word.\r\n",
        "m1=[\"picture\",\"smile\",\"something\"]\r\n",
        "print(\"length of longest word in the given list:\")\r\n",
        "x=len(m1[0])\r\n",
        "y=len(m1[1])\r\n",
        "z=len(m1[2])\r\n",
        "if(x>y and x>z):\r\n",
        "  print(x) \r\n",
        "elif(y>x and y>z):\r\n",
        "  print(y)\r\n",
        "else:\r\n",
        "  print(z)   "
      ],
      "execution_count": null,
      "outputs": [
        {
          "output_type": "stream",
          "text": [
            "length of longest word in the given list:\n",
            "9\n"
          ],
          "name": "stdout"
        }
      ]
    },
    {
      "cell_type": "code",
      "metadata": {
        "colab": {
          "base_uri": "https://localhost:8080/"
        },
        "id": "nDaTMhzaCEt3",
        "outputId": "1f97a302-1119-46ad-c711-e636aa0955fa"
      },
      "source": [
        "#9.construct folowing pattern using neste loop********\r\n",
        "n=10;\r\n",
        "print(\"pattern:\")\r\n",
        "for i in range(n):\r\n",
        " print('* ',end=\"\")"
      ],
      "execution_count": null,
      "outputs": [
        {
          "output_type": "stream",
          "text": [
            "pattern:\n",
            "* * * * * * * * * * "
          ],
          "name": "stdout"
        }
      ]
    },
    {
      "cell_type": "code",
      "metadata": {
        "colab": {
          "base_uri": "https://localhost:8080/"
        },
        "id": "ThAUo1vcHTex",
        "outputId": "aa3d2334-16d2-4190-a5f2-cece04e8678b"
      },
      "source": [
        "#10. Generate all factors of a number.\r\n",
        "num=int(input(\"Enter the number:\"))\r\n",
        "print(\"factors of the entered number is:\")\r\n",
        "for i in range(1, num+1):\r\n",
        "       if num % i == 0:\r\n",
        "             \r\n",
        "              print(i)\r\n"
      ],
      "execution_count": null,
      "outputs": [
        {
          "output_type": "stream",
          "text": [
            "Enter the number:60\n",
            "factors of the entered number is:\n",
            "1\n",
            "2\n",
            "3\n",
            "4\n",
            "5\n",
            "6\n",
            "10\n",
            "12\n",
            "15\n",
            "20\n",
            "30\n",
            "60\n"
          ],
          "name": "stdout"
        }
      ]
    },
    {
      "cell_type": "code",
      "metadata": {
        "colab": {
          "base_uri": "https://localhost:8080/"
        },
        "id": "vQpYzI3PD19v",
        "outputId": "22fbfcc9-bb9b-4a5f-bc7c-3e30813c9378"
      },
      "source": [
        "#11.write a lambda function to find area of a square\r\n",
        "x=lambda a:a*a\r\n",
        "y=lambda b,l:b*l\r\n",
        "z=lambda b,h:1/2*b*h\r\n",
        "print(\"Area of a square(5,5):\",x(5))\r\n",
        "print(\"Area of a rectangle(20,9):\",y(20,9))\r\n",
        "print(\"area of a triangle(3,4):\",z(3,4))"
      ],
      "execution_count": null,
      "outputs": [
        {
          "output_type": "stream",
          "text": [
            "Area of a square(5,5): 25\n",
            "Area of a rectangle(20,9): 180\n",
            "area of a triangle(3,4): 6.0\n"
          ],
          "name": "stdout"
        }
      ]
    }
  ]
}