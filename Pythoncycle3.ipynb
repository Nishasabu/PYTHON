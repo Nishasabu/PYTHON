{
  "nbformat": 4,
  "nbformat_minor": 0,
  "metadata": {
    "colab": {
      "name": "Pythoncycle3.ipynb",
      "provenance": [],
      "authorship_tag": "ABX9TyOV59J369mzVycPkkKMc52n",
      "include_colab_link": true
    },
    "kernelspec": {
      "name": "python3",
      "display_name": "Python 3"
    }
  },
  "cells": [
    {
      "cell_type": "markdown",
      "metadata": {
        "id": "view-in-github",
        "colab_type": "text"
      },
      "source": [
        "<a href=\"https://colab.research.google.com/github/Nishasabu/PYTHON/blob/main/Pythoncycle3.ipynb\" target=\"_parent\"><img src=\"https://colab.research.google.com/assets/colab-badge.svg\" alt=\"Open In Colab\"/></a>"
      ]
    },
    {
      "cell_type": "code",
      "metadata": {
        "colab": {
          "base_uri": "https://localhost:8080/"
        },
        "id": "kH3P1FmYrOZY",
        "outputId": "4dadb430-88b3-45aa-a763-699ee580bee9"
      },
      "source": [
        "# 1.programme to find the factorial of a number\r\n",
        "num=int(input(\"enter the number\"))\r\n",
        "factorial=1  \r\n",
        "for i in range(1,num +1):\r\n",
        "       factorial = factorial*i\r\n",
        "print(\"The factorial of\",num,\"is\",factorial)"
      ],
      "execution_count": 35,
      "outputs": [
        {
          "output_type": "stream",
          "text": [
            "enter the number5\n",
            "The factorial of 5 is 120\n"
          ],
          "name": "stdout"
        }
      ]
    },
    {
      "cell_type": "code",
      "metadata": {
        "id": "aaEHWadOFoyi",
        "colab": {
          "base_uri": "https://localhost:8080/"
        },
        "outputId": "f1fd5db3-59d4-44a2-cd9d-fc23f6f3361f"
      },
      "source": [
        "#3.find the sum of all items in a list\n",
        "n1=[1,2,3,4,5,6,12,14]\n",
        "sum=0\n",
        "for x in range(0,len(n1)):\n",
        "   sum=sum+n1[x]\n",
        "print(\"sum of the list n1:\",sum)"
      ],
      "execution_count": 8,
      "outputs": [
        {
          "output_type": "stream",
          "text": [
            "sum of the list n1: 47\n"
          ],
          "name": "stdout"
        }
      ]
    }
  ]
}